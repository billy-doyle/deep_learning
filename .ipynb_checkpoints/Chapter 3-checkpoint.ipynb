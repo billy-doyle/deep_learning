{
 "cells": [
  {
   "cell_type": "markdown",
   "metadata": {},
   "source": [
    "# Training Deep Neural Networks\n",
    "\n",
    "# 3.1 Introduction\n",
    "\n",
    "Some changes to the basic backpropagation algorithm and clever methods for initialization, such as pretraining, have also helped. It has also become easier in recent years to perform the intensive experimentation required for making algorithmic adjustments due to the reduced testing cycle times (caused by improved computational hardware). Therefore, increased data, computational power, and reduced experimentation time (for algorithmic tweaking) went hand-in-hand. These so-called “tweaks” are, nevertheless, very important; this chapter and the next will discuss most of these important algorithmic advancements.\n",
    "\n",
    "\n",
    "The backpropagation algorithm is rather unstable to minor changes in the algorithmic setting, such as the initialization point used by the approach. Very significant with very deep networks!\n",
    "\n",
    "As a Multivariable optimization problem, stability can be a challenge because one must perform the steps along each direction in the \"right\" proportion. This turns out to be particularly hard in the neural network domain, and the effect of a gradient-descent step might be somewhat unpredictable.\n",
    "\n",
    "The complex optimization surfaces presented by neural network optimization are particularly treacherous and the problem is exacerbated with poorly chosen settings (such as the initialization point or the normalization of the input features). As a result, the (easily computable) steepest-descent direction is often not the best direction to use for retaining the ability to use large steps. Small step sizes lead to slow progress, whereas the optimization surface might change in unpredictable ways with the use of large step sizes. \n",
    "\n",
    "Many of these problems can be avoided by carefully tailoring the gradient-descent steps to be more robust to the nature of the optimization surface."
   ]
  }
 ],
 "metadata": {
  "kernelspec": {
   "display_name": "Python 3",
   "language": "python",
   "name": "python3"
  },
  "language_info": {
   "codemirror_mode": {
    "name": "ipython",
    "version": 3
   },
   "file_extension": ".py",
   "mimetype": "text/x-python",
   "name": "python",
   "nbconvert_exporter": "python",
   "pygments_lexer": "ipython3",
   "version": "3.6.9"
  }
 },
 "nbformat": 4,
 "nbformat_minor": 2
}
