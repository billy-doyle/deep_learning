{
 "cells": [
  {
   "cell_type": "markdown",
   "metadata": {},
   "source": [
    "Exercise: Train a deep MLP on the MNIST dataset (you can load it using keras.datasets.mnist.load_data(). See if you can get over 98% precision. Try searching for the optimal learning rate by using the approach presented in this chapter (i.e., by growing the learning rate exponentially, plotting the loss, and finding the point where the loss shoots up). Try adding all the bells and whistles—save checkpoints, use early stopping, and plot learning curves using TensorBoard."
   ]
  },
  {
   "cell_type": "code",
   "execution_count": 38,
   "metadata": {},
   "outputs": [],
   "source": [
    "import tensorflow as tf\n",
    "from tensorflow import keras\n",
    "\n",
    "import numpy as np\n",
    "import pandas as pd\n",
    "import matplotlib.pyplot as plt\n",
    "import matplotlib as mpl\n",
    "import seaborn as sns\n",
    "\n",
    "sns.set()\n",
    "sns.set_style('whitegrid')\n",
    "\n",
    "mpl.rc('axes', labelsize=14)\n",
    "mpl.rc('xtick', labelsize=12)\n",
    "mpl.rc('ytick', labelsize=12)"
   ]
  },
  {
   "cell_type": "code",
   "execution_count": 2,
   "metadata": {},
   "outputs": [
    {
     "name": "stdout",
     "output_type": "stream",
     "text": [
      "Downloading data from https://storage.googleapis.com/tensorflow/tf-keras-datasets/mnist.npz\n",
      "11493376/11490434 [==============================] - 0s 0us/step\n"
     ]
    }
   ],
   "source": [
    "(X_train_full, y_train_full), (X_test, y_test) = keras.datasets.mnist.load_data()"
   ]
  },
  {
   "cell_type": "code",
   "execution_count": 4,
   "metadata": {},
   "outputs": [
    {
     "data": {
      "text/plain": [
       "(60000, 28, 28)"
      ]
     },
     "execution_count": 4,
     "metadata": {},
     "output_type": "execute_result"
    }
   ],
   "source": [
    "X_train_full.shape"
   ]
  },
  {
   "cell_type": "code",
   "execution_count": 5,
   "metadata": {},
   "outputs": [],
   "source": [
    "X_valid, X_train = X_train_full[:5000] / 255., X_train_full[5000:] / 255.\n",
    "y_valid, y_train = y_train_full[:5000], y_train_full[5000:]"
   ]
  },
  {
   "cell_type": "code",
   "execution_count": 8,
   "metadata": {},
   "outputs": [
    {
     "name": "stdout",
     "output_type": "stream",
     "text": [
      "(5000, 28, 28)\n",
      "(55000, 28, 28)\n"
     ]
    }
   ],
   "source": [
    "print(X_valid.shape)\n",
    "print(X_train.shape)"
   ]
  },
  {
   "cell_type": "code",
   "execution_count": 27,
   "metadata": {},
   "outputs": [],
   "source": [
    "model = keras.models.Sequential([\n",
    "    keras.layers.Flatten(input_shape=[28,28]),\n",
    "    keras.layers.Dense(300, activation='relu'),\n",
    "    keras.layers.Dense(100, activation='relu'),\n",
    "    keras.layers.Dense(10, activation='softmax')\n",
    "])"
   ]
  },
  {
   "cell_type": "code",
   "execution_count": 28,
   "metadata": {},
   "outputs": [
    {
     "name": "stdout",
     "output_type": "stream",
     "text": [
      "Model: \"sequential_1\"\n",
      "_________________________________________________________________\n",
      "Layer (type)                 Output Shape              Param #   \n",
      "=================================================================\n",
      "flatten_1 (Flatten)          (None, 784)               0         \n",
      "_________________________________________________________________\n",
      "dense_3 (Dense)              (None, 300)               235500    \n",
      "_________________________________________________________________\n",
      "dense_4 (Dense)              (None, 100)               30100     \n",
      "_________________________________________________________________\n",
      "dense_5 (Dense)              (None, 10)                1010      \n",
      "=================================================================\n",
      "Total params: 266,610\n",
      "Trainable params: 266,610\n",
      "Non-trainable params: 0\n",
      "_________________________________________________________________\n"
     ]
    }
   ],
   "source": [
    "model.summary()"
   ]
  },
  {
   "cell_type": "code",
   "execution_count": 29,
   "metadata": {},
   "outputs": [],
   "source": [
    "model.compile(loss='sparse_categorical_crossentropy', optimizer='sgd', metrics=['accuracy'])"
   ]
  },
  {
   "cell_type": "code",
   "execution_count": 30,
   "metadata": {
    "scrolled": true
   },
   "outputs": [
    {
     "name": "stdout",
     "output_type": "stream",
     "text": [
      "Train on 55000 samples, validate on 5000 samples\n",
      "Epoch 1/30\n",
      "55000/55000 [==============================] - 3s 57us/sample - loss: 0.6117 - accuracy: 0.8376 - val_loss: 0.3073 - val_accuracy: 0.9146\n",
      "Epoch 2/30\n",
      "55000/55000 [==============================] - 3s 60us/sample - loss: 0.2838 - accuracy: 0.9190 - val_loss: 0.2342 - val_accuracy: 0.9370\n",
      "Epoch 3/30\n",
      "55000/55000 [==============================] - 4s 65us/sample - loss: 0.2303 - accuracy: 0.9337 - val_loss: 0.1977 - val_accuracy: 0.9426\n",
      "Epoch 4/30\n",
      "55000/55000 [==============================] - 3s 62us/sample - loss: 0.1972 - accuracy: 0.9428 - val_loss: 0.1738 - val_accuracy: 0.9504\n",
      "Epoch 5/30\n",
      "55000/55000 [==============================] - 3s 57us/sample - loss: 0.1724 - accuracy: 0.9507 - val_loss: 0.1571 - val_accuracy: 0.9570\n",
      "Epoch 6/30\n",
      "55000/55000 [==============================] - 3s 56us/sample - loss: 0.1529 - accuracy: 0.9558 - val_loss: 0.1431 - val_accuracy: 0.9590\n",
      "Epoch 7/30\n",
      "55000/55000 [==============================] - 3s 56us/sample - loss: 0.1376 - accuracy: 0.9600 - val_loss: 0.1298 - val_accuracy: 0.9636\n",
      "Epoch 8/30\n",
      "55000/55000 [==============================] - 3s 58us/sample - loss: 0.1246 - accuracy: 0.9638 - val_loss: 0.1251 - val_accuracy: 0.9646\n",
      "Epoch 9/30\n",
      "55000/55000 [==============================] - 3s 58us/sample - loss: 0.1139 - accuracy: 0.9678 - val_loss: 0.1169 - val_accuracy: 0.9686\n",
      "Epoch 10/30\n",
      "55000/55000 [==============================] - 3s 58us/sample - loss: 0.1041 - accuracy: 0.9705 - val_loss: 0.1076 - val_accuracy: 0.9692\n",
      "Epoch 11/30\n",
      "55000/55000 [==============================] - 3s 58us/sample - loss: 0.0958 - accuracy: 0.9727 - val_loss: 0.1031 - val_accuracy: 0.9700\n",
      "Epoch 12/30\n",
      "55000/55000 [==============================] - 3s 56us/sample - loss: 0.0883 - accuracy: 0.9750 - val_loss: 0.1005 - val_accuracy: 0.9696\n",
      "Epoch 13/30\n",
      "55000/55000 [==============================] - 3s 54us/sample - loss: 0.0818 - accuracy: 0.9771 - val_loss: 0.0947 - val_accuracy: 0.9714\n",
      "Epoch 14/30\n",
      "55000/55000 [==============================] - 3s 53us/sample - loss: 0.0761 - accuracy: 0.9789 - val_loss: 0.0912 - val_accuracy: 0.9740\n",
      "Epoch 15/30\n",
      "55000/55000 [==============================] - 3s 54us/sample - loss: 0.0708 - accuracy: 0.9804 - val_loss: 0.0895 - val_accuracy: 0.9748\n",
      "Epoch 16/30\n",
      "55000/55000 [==============================] - 3s 49us/sample - loss: 0.0660 - accuracy: 0.9820 - val_loss: 0.0858 - val_accuracy: 0.9748\n",
      "Epoch 17/30\n",
      "55000/55000 [==============================] - 3s 56us/sample - loss: 0.0622 - accuracy: 0.9824 - val_loss: 0.0850 - val_accuracy: 0.9752\n",
      "Epoch 18/30\n",
      "55000/55000 [==============================] - 3s 52us/sample - loss: 0.0577 - accuracy: 0.9844 - val_loss: 0.0819 - val_accuracy: 0.9746\n",
      "Epoch 19/30\n",
      "55000/55000 [==============================] - 3s 52us/sample - loss: 0.0542 - accuracy: 0.9855 - val_loss: 0.0791 - val_accuracy: 0.9764\n",
      "Epoch 20/30\n",
      "55000/55000 [==============================] - 3s 52us/sample - loss: 0.0508 - accuracy: 0.9866 - val_loss: 0.0796 - val_accuracy: 0.9768\n",
      "Epoch 21/30\n",
      "55000/55000 [==============================] - 2s 45us/sample - loss: 0.0478 - accuracy: 0.9872 - val_loss: 0.0783 - val_accuracy: 0.9776\n",
      "Epoch 22/30\n",
      "55000/55000 [==============================] - 3s 47us/sample - loss: 0.0448 - accuracy: 0.9884 - val_loss: 0.0758 - val_accuracy: 0.9772\n",
      "Epoch 23/30\n",
      "55000/55000 [==============================] - 3s 52us/sample - loss: 0.0425 - accuracy: 0.9892 - val_loss: 0.0761 - val_accuracy: 0.9768\n",
      "Epoch 24/30\n",
      "55000/55000 [==============================] - 3s 53us/sample - loss: 0.0398 - accuracy: 0.9899 - val_loss: 0.0750 - val_accuracy: 0.9774\n",
      "Epoch 25/30\n",
      "55000/55000 [==============================] - 3s 51us/sample - loss: 0.0379 - accuracy: 0.9904 - val_loss: 0.0730 - val_accuracy: 0.9782\n",
      "Epoch 26/30\n",
      "55000/55000 [==============================] - 3s 54us/sample - loss: 0.0357 - accuracy: 0.9912 - val_loss: 0.0714 - val_accuracy: 0.9784\n",
      "Epoch 27/30\n",
      "55000/55000 [==============================] - 3s 48us/sample - loss: 0.0335 - accuracy: 0.9916 - val_loss: 0.0702 - val_accuracy: 0.9790\n",
      "Epoch 28/30\n",
      "55000/55000 [==============================] - 3s 59us/sample - loss: 0.0317 - accuracy: 0.9927 - val_loss: 0.0708 - val_accuracy: 0.9804\n",
      "Epoch 29/30\n",
      "55000/55000 [==============================] - 3s 54us/sample - loss: 0.0300 - accuracy: 0.9930 - val_loss: 0.0683 - val_accuracy: 0.9802\n",
      "Epoch 30/30\n",
      "55000/55000 [==============================] - 3s 49us/sample - loss: 0.0282 - accuracy: 0.9938 - val_loss: 0.0686 - val_accuracy: 0.9808\n"
     ]
    }
   ],
   "source": [
    "history = model.fit(X_train, y_train, epochs=30,\n",
    "                    validation_data=(X_valid, y_valid))"
   ]
  },
  {
   "cell_type": "code",
   "execution_count": 42,
   "metadata": {},
   "outputs": [
    {
     "data": {
      "image/png": "[encoded data removed]",
      "text/plain": [
       "<Figure size 864x504 with 1 Axes>"
      ]
     },
     "metadata": {},
     "output_type": "display_data"
    }
   ],
   "source": [
    "pd.DataFrame(history.history).plot(figsize=(12,7))\n",
    "plt.gca().set_ylim(0,1);"
   ]
  },
  {
   "cell_type": "code",
   "execution_count": 40,
   "metadata": {},
   "outputs": [
    {
     "name": "stdout",
     "output_type": "stream",
     "text": [
      "10000/10000 [==============================] - 0s 31us/sample - loss: 12.5274 - accuracy: 0.9760\n"
     ]
    },
    {
     "data": {
      "text/plain": [
       "[12.527428275138233, 0.976]"
      ]
     },
     "execution_count": 40,
     "metadata": {},
     "output_type": "execute_result"
    }
   ],
   "source": [
    "model.evaluate(X_test, y_test)"
   ]
  }
 ],
 "metadata": {
  "kernelspec": {
   "display_name": "Python 3",
   "language": "python",
   "name": "python3"
  },
  "language_info": {
   "codemirror_mode": {
    "name": "ipython",
    "version": 3
   },
   "file_extension": ".py",
   "mimetype": "text/x-python",
   "name": "python",
   "nbconvert_exporter": "python",
   "pygments_lexer": "ipython3",
   "version": "3.6.9"
  }
 },
 "nbformat": 4,
 "nbformat_minor": 2
}
